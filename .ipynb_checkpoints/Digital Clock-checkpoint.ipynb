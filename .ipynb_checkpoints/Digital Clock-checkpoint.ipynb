{
 "cells": [
  {
   "cell_type": "code",
   "execution_count": 4,
   "id": "f80c4b53",
   "metadata": {},
   "outputs": [],
   "source": [
    "import tkinter as tk\n",
    "import time\n",
    "\n",
    "root = tk.Tk()\n",
    "root.title(\"Digital Clock\")\n",
    "root.geometry(\"300x180\")\n",
    "root.configure(bg='light grey')\n",
    "\n",
    "casa_fnt = (\"canva sans\", 30, \"bold\")\n",
    "\n",
    "main_frm = tk.Frame(root, bg='white', borderwidth=2, relief='solid', width=300, height=160)\n",
    "main_frm.pack_propagate(False)  # Prevent from resizing\n",
    "main_frm.pack(padx=10, pady=10)\n",
    "\n",
    "time_lbl = tk.Label(main_frm, font=casa_fnt, bg='white', fg='black')\n",
    "time_lbl.pack(anchor='center', pady=10)\n",
    "\n",
    "time_format = tk.StringVar(value=\"24hr\")\n",
    "\n",
    "def update_time():\n",
    "    running_time = time.strftime('%H:%M:%S') if time_format.get() == \"24hr\" else time.strftime('%I:%M:%S %p')\n",
    "    time_lbl.config(text=running_time)\n",
    "    time_lbl.after(1000, update_time)  # 1000ms (1sec)\n",
    "\n",
    "format_lbl = tk.Label(main_frm, text=\"Select Format\", font=(\"calibri\", 14), bg='white', fg='black')\n",
    "format_lbl.pack(pady=2)\n",
    "\n",
    "btn_frm = tk.Frame(main_frm, bg='white')\n",
    "btn_frm.pack(pady=5)\n",
    "\n",
    "btn_24hr = tk.Radiobutton(btn_frm, text=\"24 Hour\", variable=time_format, value=\"24hr\", font=(\"canva sans\", 14), bg='white', fg='black', selectcolor='white')\n",
    "btn_24hr.pack(side='left', padx=2)\n",
    "\n",
    "btn_12hr = tk.Radiobutton(btn_frm, text=\"12 Hour\", variable=time_format, value=\"12hr\", font=(\"canva sans\", 14), bg='white', fg='black', selectcolor='white')\n",
    "btn_12hr.pack(side='left', padx=2)\n",
    "\n",
    "update_time()\n",
    "root.mainloop()"
   ]
  },
  {
   "cell_type": "code",
   "execution_count": null,
   "id": "b34eecf7",
   "metadata": {},
   "outputs": [],
   "source": []
  }
 ],
 "metadata": {
  "kernelspec": {
   "display_name": "Python 3 (ipykernel)",
   "language": "python",
   "name": "python3"
  },
  "language_info": {
   "codemirror_mode": {
    "name": "ipython",
    "version": 3
   },
   "file_extension": ".py",
   "mimetype": "text/x-python",
   "name": "python",
   "nbconvert_exporter": "python",
   "pygments_lexer": "ipython3",
   "version": "3.11.4"
  }
 },
 "nbformat": 4,
 "nbformat_minor": 5
}
